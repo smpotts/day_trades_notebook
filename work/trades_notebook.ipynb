{
 "cells": [
  {
   "cell_type": "markdown",
   "id": "7014a4d4-20c6-4a7d-9f2c-d68a7eacdc1c",
   "metadata": {},
   "source": [
    "# Trades Notebook"
   ]
  },
  {
   "cell_type": "markdown",
   "id": "5000c9f9-047b-4fbe-a4c4-049cd278fdb9",
   "metadata": {},
   "source": [
    "## Overview"
   ]
  },
  {
   "cell_type": "markdown",
   "id": "7d212819-f474-4b11-b369-860bd3eeec2e",
   "metadata": {},
   "source": [
    "This program connects to a local Postgres database running on a Docker container, and puts trading data that has been loaded into the Postgres table `public.trades` into a DataFrame for analysis. The program uses the trading data in the DataFrame and calculates the number of day trades for each account over a specified range of time."
   ]
  },
  {
   "cell_type": "markdown",
   "id": "541c78d9-95f2-4073-ae37-2001d008d760",
   "metadata": {},
   "source": [
    "## Setup"
   ]
  },
  {
   "cell_type": "markdown",
   "id": "f1013c0c-0bee-4b41-8207-eb1bb59c1a7b",
   "metadata": {},
   "source": [
    "Setups up the connection to Postgres and loads the `public.trades` data into a DataFrame."
   ]
  },
  {
   "cell_type": "code",
   "execution_count": 1,
   "id": "7a9768e1-2849-4374-ab67-ad673fc221ff",
   "metadata": {},
   "outputs": [],
   "source": [
    "import psycopg2\n",
    "import pandas as pd\n",
    "\n",
    "# create a connection to the Postgres database\n",
    "connection = psycopg2.connect(\"dbname=postgres host=sp-psql user=postgres password=postgres\")\n",
    "# create a cursor\n",
    "cursor = connection.cursor()\n",
    "\n",
    "# execute a query\n",
    "cursor.execute(\"SELECT * FROM public.trades\")\n",
    "\n",
    "# retrieve query results\n",
    "records = cursor.fetchall()\n",
    "cursor.close()\n",
    "\n",
    "# define the column names\n",
    "column_names = ['account_id','symbol','side','qty','timestamp']\n",
    "\n",
    "# create a DataFrame\n",
    "trades_df = pd.DataFrame(records, columns=column_names)"
   ]
  },
  {
   "cell_type": "markdown",
   "id": "821e7057-4c01-4f21-80ef-cc04fc237ed5",
   "metadata": {},
   "source": [
    "## Trades Analysis"
   ]
  },
  {
   "cell_type": "markdown",
   "id": "94e4b8ae-3959-4583-9ea6-95ecb7f73dea",
   "metadata": {},
   "source": [
    "Creates a method called `calculate_day_trades()`, which calculates the number of day trades for each account over a given time window. The method accepts a `start_time` and an `end_time` as parameters for the date window, and it will default to using the `trades_df` DataFrame created above if not specified.\n",
    "\n",
    "The second method `write_output_file()`, writes the day trades to a file. It accepts the `start_time` and `end_time` to include in the output file name, and it also takes it a DataFrame with the day trades data."
   ]
  },
  {
   "cell_type": "code",
   "execution_count": 5,
   "id": "3e8ca26b-72a8-43a6-bb94-2507058dd0c3",
   "metadata": {},
   "outputs": [],
   "source": [
    "import pandas as pd\n",
    "import numpy as np\n",
    "\n",
    "\n",
    "def find_day_trades(start_time, end_time, df=trades_df):\n",
    "    \"\"\"\n",
    "    Given a DataFrame with trading data, it calculates the number of day trades per account, day\n",
    "    over a given time window.\n",
    "    \"\"\"\n",
    "    # set index on timestamp\n",
    "    df = df.set_index('timestamp')\n",
    "    # get trades within the start and end time window\n",
    "    data_in_range = df.loc[start_time:end_time]\n",
    "\n",
    "    # group by account id and symbol and find where there are buy and sell side records\n",
    "    sell_and_buy = data_in_range.groupby(['account_id', 'symbol']).filter(\n",
    "            lambda x: 'sell' in x['side'].values and 'buy' in x['side'].values)\n",
    "\n",
    "    # get the counts of sell and buy side trades / 2- this roughly accounts for side\n",
    "    trades_div_two = sell_and_buy.groupby('account_id')['side'].count() / 2\n",
    "\n",
    "    # create a DataFrame with the account and trade data\n",
    "    output = pd.Series(trades_div_two).reset_index()\n",
    "    output.columns = ['account_id', 'trades_div']\n",
    "    \n",
    "    # create a new column which takes the floor(trades / 2)\n",
    "    # this will round down in scenarios where there are 2 sell/buy side orders and only one corresponding on the other side\n",
    "    # there is probably a better way to do this...\n",
    "    # also cast column to an integer\n",
    "    output['day_trade_count'] = output['trades_div'].apply(np.floor).astype(int)\n",
    "    \n",
    "    return output\n",
    "\n",
    "    \n",
    "def write_output_file(start_time, end_time, df):\n",
    "    \"\"\"\n",
    "    Writes a DataFrame to a file given a start time and an end time.\n",
    "    \"\"\"\n",
    "    # create the output file name with the date range in the file name\n",
    "    filename = f\"day_trades_{start_time}_to_{end_time}.csv\"\n",
    "    # output the DataFrame to a csv\n",
    "    df.to_csv(filename, columns=['account_id', 'day_trade_count'], header=True, index=False)"
   ]
  },
  {
   "cell_type": "markdown",
   "id": "4f821649-e619-4cd9-9119-dd74a3246efb",
   "metadata": {},
   "source": [
    "## Output"
   ]
  },
  {
   "cell_type": "markdown",
   "id": "bb9be415-a672-463e-b065-8310d1f090cb",
   "metadata": {},
   "source": [
    "Call the calculate_day_trades() method with a `start_time` and `end_time` and save the result. Then pass the result to the `write_output_file()` method to generate a `.csv` file with the count of day trades in that time window for each account."
   ]
  },
  {
   "cell_type": "code",
   "execution_count": 4,
   "id": "4c5217fd-84b1-4d61-9023-033ea788e67b",
   "metadata": {},
   "outputs": [],
   "source": [
    "results = find_day_trades('2023-09-08 14:59:57', '2023-09-08 15:59:57')\n",
    "write_output_file('2023-09-08 14:59:57', '2023-09-08 15:59:57', results)"
   ]
  }
 ],
 "metadata": {
  "kernelspec": {
   "display_name": "Python 3 (ipykernel)",
   "language": "python",
   "name": "python3"
  },
  "language_info": {
   "codemirror_mode": {
    "name": "ipython",
    "version": 3
   },
   "file_extension": ".py",
   "mimetype": "text/x-python",
   "name": "python",
   "nbconvert_exporter": "python",
   "pygments_lexer": "ipython3",
   "version": "3.11.6"
  }
 },
 "nbformat": 4,
 "nbformat_minor": 5
}
