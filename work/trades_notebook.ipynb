{
 "cells": [
  {
   "cell_type": "markdown",
   "id": "7014a4d4-20c6-4a7d-9f2c-d68a7eacdc1c",
   "metadata": {},
   "source": [
    "# Trades Notebook"
   ]
  },
  {
   "cell_type": "markdown",
   "id": "5000c9f9-047b-4fbe-a4c4-049cd278fdb9",
   "metadata": {},
   "source": [
    "## Overview"
   ]
  },
  {
   "cell_type": "markdown",
   "id": "7d212819-f474-4b11-b369-860bd3eeec2e",
   "metadata": {},
   "source": [
    "This program connects to a local Postgres database running on a Docker container, and puts trading data that has been loaded into the Postgres table `public.trades` into a DataFrame for analysis. The program uses the trading data in the DataFrame and calculates the number of day trades for each account over a specified range of time."
   ]
  },
  {
   "cell_type": "markdown",
   "id": "541c78d9-95f2-4073-ae37-2001d008d760",
   "metadata": {},
   "source": [
    "## Setup"
   ]
  },
  {
   "cell_type": "markdown",
   "id": "f1013c0c-0bee-4b41-8207-eb1bb59c1a7b",
   "metadata": {},
   "source": [
    "Setups up the connection to Postgres and loads the `public.trades` data into a DataFrame."
   ]
  },
  {
   "cell_type": "code",
   "execution_count": 7,
   "id": "7a9768e1-2849-4374-ab67-ad673fc221ff",
   "metadata": {},
   "outputs": [
    {
     "name": "stdout",
     "output_type": "stream",
     "text": [
      "       account_id symbol  side  qty           timestamp\n",
      "0           77658   GOOG  sell  493 2023-09-04 09:30:00\n",
      "1           19191   NVDA  sell  216 2023-09-04 09:30:03\n",
      "2           90209   NVDA  sell  108 2023-09-04 09:30:07\n",
      "3           59797     FB   buy  612 2023-09-04 09:30:07\n",
      "4           20249   NFLX   buy    7 2023-09-04 09:30:12\n",
      "...           ...    ...   ...  ...                 ...\n",
      "37647       38363   NFLX  sell  732 2023-09-08 15:59:35\n",
      "37648       19170   MSFT   buy  726 2023-09-08 15:59:37\n",
      "37649       18089   GOOG  sell  363 2023-09-08 15:59:51\n",
      "37650       88273   NFLX   buy   11 2023-09-08 15:59:56\n",
      "37651       28035   GOOG  sell   26 2023-09-08 15:59:57\n",
      "\n",
      "[37652 rows x 5 columns]\n"
     ]
    }
   ],
   "source": [
    "import psycopg2\n",
    "import pandas as pd\n",
    "\n",
    "# create a connection to the Postgres database\n",
    "connection = psycopg2.connect(\"dbname=postgres host=sp-psql user=postgres password=postgres\")\n",
    "# create a cursor\n",
    "cursor = connection.cursor()\n",
    "\n",
    "# execute a query\n",
    "cursor.execute(\"SELECT * FROM public.trades\")\n",
    "\n",
    "# retrieve query results\n",
    "records = cursor.fetchall()\n",
    "cursor.close()\n",
    "\n",
    "# define the column names\n",
    "column_names = ['account_id','symbol','side','qty','timestamp']\n",
    "\n",
    "# create a DataFrame\n",
    "trades_df = pd.DataFrame(records, columns=column_names)"
   ]
  },
  {
   "cell_type": "markdown",
   "id": "821e7057-4c01-4f21-80ef-cc04fc237ed5",
   "metadata": {},
   "source": [
    "## Trades Analysis"
   ]
  },
  {
   "cell_type": "markdown",
   "id": "94e4b8ae-3959-4583-9ea6-95ecb7f73dea",
   "metadata": {},
   "source": [
    "Creates the method `day_trades()` which calculates the number of day trades for each account over a given time window. The method accepts a `start_time` and an `end_time` as parameters for the date window, and it will default to using the `trades_df` DataFrame created above if not specified."
   ]
  },
  {
   "cell_type": "code",
   "execution_count": 20,
   "id": "3e8ca26b-72a8-43a6-bb94-2507058dd0c3",
   "metadata": {},
   "outputs": [],
   "source": [
    "import pandas as pd\n",
    "import math\n",
    "\n",
    "\n",
    "def day_trades(start_time, end_time, df=trades_df):\n",
    "    # set index on timestamp\n",
    "    df = df.set_index('timestamp')\n",
    "    # get trades within the start and end time window\n",
    "    data_in_range = df.loc[start_time:end_time]\n",
    "\n",
    "    output = []\n",
    "    # find day trades grouped by account id\n",
    "    for acct in data_in_range['account_id']:\n",
    "        # grab the trades for that particular account\n",
    "        trades_per_acct = data_in_range.loc[data_in_range['account_id'] == acct]\n",
    "        # group by symbol, see if there is a sell side trade and a buy side trade for that symbol\n",
    "        sell_and_buy = trades_per_acct.groupby(['symbol']).filter(\n",
    "            lambda x: 'sell' in x['side'].values and 'buy' in x['side'].values)\n",
    "\n",
    "        # get the day trade count by looking at record count div by 2\n",
    "        # this is taking the floor of that result which will handle scenarios for example:\n",
    "        # where there are 2 buy side orders and one sell side order, which would result in only 1 day trade\n",
    "        # there's probably a more elegant way to do this...\n",
    "        day_trade_count = math.floor(sell_and_buy['symbol'].count() / 2)\n",
    "        # append to output account id and day trade count\n",
    "        output.append(\n",
    "            {\n",
    "                'account_id': acct,\n",
    "                'day_trades': day_trade_count\n",
    "            }\n",
    "        )\n",
    "\n",
    "    # format the name of the output file to include the date range\n",
    "    filename = f\"day_trades_{start_time}_to_{end_time}.csv\"\n",
    "    \n",
    "    # create a DataFrame from the output and write it to a csv file \n",
    "    result = pd.DataFrame(output).groupby(['account_id']).sum().sort_values(by=['account_id'])\n",
    "\n",
    "    result.to_csv(filename, header=True, index=False)"
   ]
  },
  {
   "cell_type": "markdown",
   "id": "4f821649-e619-4cd9-9119-dd74a3246efb",
   "metadata": {},
   "source": [
    "## Output"
   ]
  },
  {
   "cell_type": "markdown",
   "id": "bb9be415-a672-463e-b065-8310d1f090cb",
   "metadata": {},
   "source": [
    "Call the day_trades() method with a `start_time` and `end_time` to generate a `.csv` file with the count of day trades in that time window for each account."
   ]
  },
  {
   "cell_type": "code",
   "execution_count": 21,
   "id": "4c5217fd-84b1-4d61-9023-033ea788e67b",
   "metadata": {},
   "outputs": [],
   "source": [
    "day_trades('2023-09-08 14:59:57', '2023-09-08 15:59:57')"
   ]
  }
 ],
 "metadata": {
  "kernelspec": {
   "display_name": "Python 3 (ipykernel)",
   "language": "python",
   "name": "python3"
  },
  "language_info": {
   "codemirror_mode": {
    "name": "ipython",
    "version": 3
   },
   "file_extension": ".py",
   "mimetype": "text/x-python",
   "name": "python",
   "nbconvert_exporter": "python",
   "pygments_lexer": "ipython3",
   "version": "3.11.6"
  }
 },
 "nbformat": 4,
 "nbformat_minor": 5
}
