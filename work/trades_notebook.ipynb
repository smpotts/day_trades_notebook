{
 "cells": [
  {
   "cell_type": "markdown",
   "id": "7014a4d4-20c6-4a7d-9f2c-d68a7eacdc1c",
   "metadata": {},
   "source": [
    "# Trades Notebook"
   ]
  },
  {
   "cell_type": "code",
   "execution_count": 2,
   "id": "7a9768e1-2849-4374-ab67-ad673fc221ff",
   "metadata": {},
   "outputs": [
    {
     "name": "stdout",
     "output_type": "stream",
     "text": [
      "[(37652,)]\n"
     ]
    }
   ],
   "source": [
    "import psycopg2\n",
    "\n",
    "# create a connection to the Postgres database\n",
    "connection = psycopg2.connect(\"dbname=postgres host=sp-psql user=postgres password=postgres\")\n",
    "# create a cursor\n",
    "cursor = connection.cursor()\n",
    "\n",
    "# execute a query\n",
    "cursor.execute(\"SELECT count(*) FROM public.trades\")\n",
    "\n",
    "# retrieve query results\n",
    "records = cursor.fetchall()\n",
    "print(records)"
   ]
  }
 ],
 "metadata": {
  "kernelspec": {
   "display_name": "Python 3 (ipykernel)",
   "language": "python",
   "name": "python3"
  },
  "language_info": {
   "codemirror_mode": {
    "name": "ipython",
    "version": 3
   },
   "file_extension": ".py",
   "mimetype": "text/x-python",
   "name": "python",
   "nbconvert_exporter": "python",
   "pygments_lexer": "ipython3",
   "version": "3.11.6"
  }
 },
 "nbformat": 4,
 "nbformat_minor": 5
}
