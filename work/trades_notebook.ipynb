{
 "cells": [
  {
   "cell_type": "markdown",
   "id": "7014a4d4-20c6-4a7d-9f2c-d68a7eacdc1c",
   "metadata": {},
   "source": [
    "# Trades Notebook"
   ]
  },
  {
   "cell_type": "raw",
   "id": "71fce0df-4124-4914-a28b-3beda3d93217",
   "metadata": {},
   "source": [
    "Connect to the Postgres database and put the trades data from the Postgres table into a DataFrame."
   ]
  },
  {
   "cell_type": "code",
   "execution_count": 7,
   "id": "7a9768e1-2849-4374-ab67-ad673fc221ff",
   "metadata": {},
   "outputs": [
    {
     "name": "stdout",
     "output_type": "stream",
     "text": [
      "       account_id symbol  side  qty           timestamp\n",
      "0           77658   GOOG  sell  493 2023-09-04 09:30:00\n",
      "1           19191   NVDA  sell  216 2023-09-04 09:30:03\n",
      "2           90209   NVDA  sell  108 2023-09-04 09:30:07\n",
      "3           59797     FB   buy  612 2023-09-04 09:30:07\n",
      "4           20249   NFLX   buy    7 2023-09-04 09:30:12\n",
      "...           ...    ...   ...  ...                 ...\n",
      "37647       38363   NFLX  sell  732 2023-09-08 15:59:35\n",
      "37648       19170   MSFT   buy  726 2023-09-08 15:59:37\n",
      "37649       18089   GOOG  sell  363 2023-09-08 15:59:51\n",
      "37650       88273   NFLX   buy   11 2023-09-08 15:59:56\n",
      "37651       28035   GOOG  sell   26 2023-09-08 15:59:57\n",
      "\n",
      "[37652 rows x 5 columns]\n"
     ]
    }
   ],
   "source": [
    "import psycopg2\n",
    "import pandas as pd\n",
    "\n",
    "# create a connection to the Postgres database\n",
    "connection = psycopg2.connect(\"dbname=postgres host=sp-psql user=postgres password=postgres\")\n",
    "# create a cursor\n",
    "cursor = connection.cursor()\n",
    "\n",
    "# execute a query\n",
    "cursor.execute(\"SELECT * FROM public.trades\")\n",
    "\n",
    "# retrieve query results\n",
    "records = cursor.fetchall()\n",
    "cursor.close()\n",
    "\n",
    "column_names = ['account_id','symbol','side','qty','timestamp']\n",
    "trades_df = pd.DataFrame(records, columns=column_names)\n",
    "print(trades_df)"
   ]
  }
 ],
 "metadata": {
  "kernelspec": {
   "display_name": "Python 3 (ipykernel)",
   "language": "python",
   "name": "python3"
  },
  "language_info": {
   "codemirror_mode": {
    "name": "ipython",
    "version": 3
   },
   "file_extension": ".py",
   "mimetype": "text/x-python",
   "name": "python",
   "nbconvert_exporter": "python",
   "pygments_lexer": "ipython3",
   "version": "3.11.6"
  }
 },
 "nbformat": 4,
 "nbformat_minor": 5
}
