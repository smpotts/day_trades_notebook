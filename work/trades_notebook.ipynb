{
 "cells": [
  {
   "cell_type": "markdown",
   "id": "7014a4d4-20c6-4a7d-9f2c-d68a7eacdc1c",
   "metadata": {},
   "source": [
    "# Trades Notebook"
   ]
  },
  {
   "cell_type": "code",
   "execution_count": 2,
   "id": "30bd8a30-e97c-40f4-b432-762d26e78a27",
   "metadata": {},
   "outputs": [],
   "source": [
    "import src.app as app"
   ]
  },
  {
   "cell_type": "code",
   "execution_count": 4,
   "id": "f5e7a78e-3456-4e91-a889-1731ec9c5329",
   "metadata": {},
   "outputs": [
    {
     "name": "stdout",
     "output_type": "stream",
     "text": [
      "Hello, World.\n"
     ]
    }
   ],
   "source": [
    "app.greetings()"
   ]
  }
 ],
 "metadata": {
  "kernelspec": {
   "display_name": "Python 3 (ipykernel)",
   "language": "python",
   "name": "python3"
  },
  "language_info": {
   "codemirror_mode": {
    "name": "ipython",
    "version": 3
   },
   "file_extension": ".py",
   "mimetype": "text/x-python",
   "name": "python",
   "nbconvert_exporter": "python",
   "pygments_lexer": "ipython3",
   "version": "3.11.6"
  }
 },
 "nbformat": 4,
 "nbformat_minor": 5
}
